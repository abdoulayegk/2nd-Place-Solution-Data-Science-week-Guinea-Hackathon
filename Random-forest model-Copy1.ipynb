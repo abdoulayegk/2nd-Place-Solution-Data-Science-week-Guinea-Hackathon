{
 "cells": [
  {
   "cell_type": "code",
   "execution_count": null,
   "id": "7db58199-359b-4766-a3e9-0f7c57b8c017",
   "metadata": {},
   "outputs": [],
   "source": [
    "import gc\n",
    "import warnings\n",
    "from random import seed\n",
    "\n",
    "import matplotlib.pyplot as plt\n",
    "import missingno as ms\n",
    "import pandas as pd\n",
    "import seaborn as sns\n",
    "import statsmodels as sm\n",
    "\n",
    "RANDOM_SEED = 42\n",
    "\n",
    "%matplotlib inline\n",
    "\n",
    "seed(42)\n",
    "\n",
    "pd.set_option(\"display.max_rows\", None)\n",
    "pd.set_option(\"display.max_columns\", None)\n",
    "pd.set_option(\"float_format\", \"{:f}\".format)\n",
    "warnings.filterwarnings(\"ignore\")"
   ]
  },
  {
   "cell_type": "code",
   "execution_count": null,
   "id": "bf49c4b9-4b9b-4def-8228-f1cd817ead2d",
   "metadata": {},
   "outputs": [],
   "source": [
    "train = pd.read_csv(\"Train (1).csv\").drop(\"ID\", axis=1)\n",
    "test = pd.read_csv(\"Test.csv\").drop(\"ID\", axis=1)\n",
    "ss = pd.read_csv(\"SampleSubmission.csv\")"
   ]
  },
  {
   "cell_type": "code",
   "execution_count": null,
   "id": "c96571c5-6d3b-4abf-878c-6d7c0c208d8b",
   "metadata": {},
   "outputs": [],
   "source": [
    "train.head()"
   ]
  },
  {
   "cell_type": "code",
   "execution_count": null,
   "id": "6f0abf26-c63e-4825-b9a0-33b7a54d9016",
   "metadata": {},
   "outputs": [],
   "source": [
    "test.head()"
   ]
  },
  {
   "cell_type": "code",
   "execution_count": null,
   "id": "ef8ca5fc-9322-4f03-bb57-a0b8033df564",
   "metadata": {},
   "outputs": [],
   "source": [
    "ss.head()"
   ]
  },
  {
   "cell_type": "code",
   "execution_count": null,
   "id": "5be0361f-33d0-499a-ab58-8156021577a8",
   "metadata": {},
   "outputs": [],
   "source": [
    "train.shape, test.shape"
   ]
  },
  {
   "cell_type": "code",
   "execution_count": null,
   "id": "702805ea-217c-44f7-aa6e-5cf679e23149",
   "metadata": {},
   "outputs": [],
   "source": [
    "ms.matrix(train)"
   ]
  },
  {
   "cell_type": "code",
   "execution_count": null,
   "id": "64b1b0b8-9ebc-4151-beb7-00cfa651c2fb",
   "metadata": {},
   "outputs": [],
   "source": [
    "train.info()"
   ]
  },
  {
   "cell_type": "code",
   "execution_count": null,
   "id": "f560fc12-036b-4bdc-8ebe-73e31273d5a3",
   "metadata": {},
   "outputs": [],
   "source": [
    "plt.figure(figsize=(19, 8))\n",
    "sns.heatmap(train.corr(), annot=True)"
   ]
  },
  {
   "cell_type": "code",
   "execution_count": null,
   "id": "49e1e343-1d3a-4773-bdb2-899b7373d488",
   "metadata": {},
   "outputs": [],
   "source": [
    "sns.histplot(train.target)"
   ]
  },
  {
   "cell_type": "code",
   "execution_count": null,
   "id": "dc44b5bb-e480-4d56-b328-d1265bd76bad",
   "metadata": {},
   "outputs": [],
   "source": [
    "train.corr()[\"target\"]"
   ]
  },
  {
   "cell_type": "code",
   "execution_count": null,
   "id": "367c1ec8-1eb2-4be9-a63c-a42acfff2f16",
   "metadata": {},
   "outputs": [],
   "source": [
    "train.agefrom.value_counts().plot(kind=\"bar\")"
   ]
  },
  {
   "cell_type": "code",
   "execution_count": null,
   "id": "93d5f51f-c8f7-479e-a968-050674efa252",
   "metadata": {},
   "outputs": [],
   "source": [
    "train.ageto.value_counts().plot(kind=\"bar\")"
   ]
  },
  {
   "cell_type": "code",
   "execution_count": null,
   "id": "a17861a9-58ac-4a94-b732-165cc8f89d97",
   "metadata": {},
   "outputs": [],
   "source": [
    "train.sex.value_counts().plot(kind=\"bar\")"
   ]
  },
  {
   "cell_type": "code",
   "execution_count": null,
   "id": "f4594d49-589d-46ad-83d7-b9936dad9897",
   "metadata": {},
   "outputs": [],
   "source": [
    "train.loc[\n",
    "    :, \"percentage_primary_schooling\":\"percentage_secondary_schooling_completed\"\n",
    "].describe().T.style.bar(subset=[\"mean\"], color=\"#206ff2\").background_gradient(\n",
    "    subset=[\"std\"], cmap=\"Reds\"\n",
    ").background_gradient(\n",
    "    subset=[\"50%\"], cmap=\"coolwarm\"\n",
    ")"
   ]
  },
  {
   "cell_type": "code",
   "execution_count": null,
   "id": "5222c64c-d473-4b85-a6f3-f74fbbaf62b5",
   "metadata": {},
   "outputs": [],
   "source": [
    "features = train.columns.values[3:12]\n",
    "i = 0\n",
    "sns.set_style(\"whitegrid\")\n",
    "plt.figure()\n",
    "fig, ax = plt.subplots(10, 10, figsize=(18, 22))\n",
    "\n",
    "for feature in features:\n",
    "    i += 1\n",
    "    plt.subplot(5, 2, i)\n",
    "    sns.distplot(train[feature], hist=False, label=\"train\")\n",
    "    sns.distplot(test[feature], hist=False, label=\"test\")\n",
    "    plt.xlabel(feature, fontsize=9)\n",
    "    locs, labels = plt.xticks()\n",
    "    plt.tick_params(axis=\"x\", which=\"major\", labelsize=6, pad=-6)\n",
    "    plt.tick_params(axis=\"y\", which=\"major\", labelsize=6)\n",
    "plt.show();"
   ]
  },
  {
   "cell_type": "code",
   "execution_count": null,
   "id": "13e0b796-e521-4182-9cfa-6a697ce0e3d8",
   "metadata": {},
   "outputs": [],
   "source": [
    "# encoding features\n",
    "train = pd.get_dummies(train, drop_first=True)\n",
    "\n",
    "test = pd.get_dummies(test, drop_first=True)"
   ]
  },
  {
   "cell_type": "code",
   "execution_count": null,
   "id": "e90c52e4-a4e5-4c76-86a0-85e350feb18e",
   "metadata": {},
   "outputs": [],
   "source": [
    "train.shape, test.shape"
   ]
  },
  {
   "cell_type": "code",
   "execution_count": null,
   "id": "0a3ecc93-3d3f-417e-876c-097268833e22",
   "metadata": {},
   "outputs": [],
   "source": [
    "train.corr()[\"target\"].sort_values()"
   ]
  },
  {
   "cell_type": "markdown",
   "id": "4fe8dcdb-d36a-4d3b-87f8-3fe4dfddf726",
   "metadata": {},
   "source": [
    " From the above cell we can see that many features are not correlated or we having negative correlation.<br>\n",
    " I wanted to remove ageto because it doesn't carry any unformation but after droping int it reduce the score"
   ]
  },
  {
   "cell_type": "code",
   "execution_count": null,
   "id": "e4913c9f-d581-403d-b8bf-191c0bd1cf1e",
   "metadata": {},
   "outputs": [],
   "source": [
    "# taking both columns names for train and test\n",
    "train_col = train.columns.to_list()\n",
    "test_col = test.columns.to_list()"
   ]
  },
  {
   "cell_type": "code",
   "execution_count": null,
   "id": "dccb049f-8732-4606-9a4a-6363851a1af9",
   "metadata": {},
   "outputs": [],
   "source": [
    "X = train.drop([\"target\"], 1).values\n",
    "y = train.target.values"
   ]
  },
  {
   "cell_type": "code",
   "execution_count": null,
   "id": "eb612ec7-00dd-4eab-95f4-e1fead300bbb",
   "metadata": {},
   "outputs": [],
   "source": [
    "X.shape, test.shape"
   ]
  },
  {
   "cell_type": "code",
   "execution_count": null,
   "id": "f10f41f6-f470-4e5b-aa04-ac19e7c8d6e6",
   "metadata": {},
   "outputs": [],
   "source": [
    "import statsmodels.api as sm\n",
    "from sklearn.model_selection import train_test_split\n",
    "\n",
    "mod = sm.OLS(y, X)  # Describe model\n",
    "\n",
    "res = mod.fit()  # Fit model\n",
    "\n",
    "print(res.summary())  # Summarize model"
   ]
  },
  {
   "cell_type": "code",
   "execution_count": null,
   "id": "3db1e3ea-4f7a-4b0c-9b1f-3d51c6e1cae3",
   "metadata": {},
   "outputs": [],
   "source": [
    "X_train, X_test, y_train, y_test = train_test_split(\n",
    "    X, y, test_size=0.05, random_state=42\n",
    ")"
   ]
  },
  {
   "cell_type": "code",
   "execution_count": null,
   "id": "ab7497ca-ae15-4c71-96e7-372ff4aacdfd",
   "metadata": {},
   "outputs": [],
   "source": [
    "# import regression algorithm\n",
    "from sklearn.ensemble import (\n",
    "    GradientBoostingRegressor,\n",
    "    HistGradientBoostingRegressor,\n",
    "    RandomForestRegressor,\n",
    ")\n",
    "from sklearn.linear_model import LinearRegression\n",
    "from sklearn.metrics import mean_absolute_error\n",
    "from sklearn.model_selection import cross_val_score, train_test_split\n",
    "from sklearn.neighbors import KNeighborsRegressor\n",
    "from sklearn.svm import SVR\n",
    "from sklearn.tree import DecisionTreeRegressor"
   ]
  },
  {
   "cell_type": "code",
   "execution_count": null,
   "id": "b291a6dc-e5b3-49b5-b732-91fdc0711f83",
   "metadata": {},
   "outputs": [],
   "source": [
    "models = {\n",
    "    # \"SVM\": SVR(),\n",
    "    \"KNN\": KNeighborsRegressor(),\n",
    "    \"RF\": RandomForestRegressor(),\n",
    "    \"GB\": GradientBoostingRegressor(),\n",
    "    \"DTC\": DecisionTreeRegressor(),\n",
    "    \"HGB\": HistGradientBoostingRegressor(),\n",
    "    \"LR\": LinearRegression(),\n",
    "}\n",
    "\n",
    "\n",
    "for model_name, model in models.items():\n",
    "    print(\"Train {}\".format(model_name))\n",
    "    model.fit(X_train, y_train)\n",
    "    scores = cross_val_score(\n",
    "        model, X_train, y_train, cv=5, scoring=(\"neg_mean_absolute_error\")\n",
    "    )\n",
    "    print(scores)\n",
    "    scores_average = (sum(scores)) / (len(scores))\n",
    "    print(scores_average)\n",
    "\n",
    "    #     print(\"List of scores for {}: {}\".format(model_name, scores))\n",
    "    #     print(\"The mean score for {}: {}\".format(model_name, scores.mean()))\n",
    "    print(\"-------------The End------------------\")"
   ]
  },
  {
   "cell_type": "markdown",
   "id": "2040be74-a256-461e-a1c8-af70165e428d",
   "metadata": {},
   "source": [
    "### The cross valudation shows us that Random forst is the best among all here so we are going to use that one for now."
   ]
  },
  {
   "cell_type": "code",
   "execution_count": null,
   "id": "db0bc28a-a31d-444c-a15a-ffcab63c535f",
   "metadata": {},
   "outputs": [],
   "source": [
    "from sklearn.ensemble import RandomForestRegressor\n",
    "from sklearn.metrics import mean_absolute_error\n",
    "from sklearn.model_selection import train_test_split\n",
    "from sklearn.preprocessing import StandardScaler"
   ]
  },
  {
   "cell_type": "code",
   "execution_count": null,
   "id": "4956b010-6d96-4d6b-b61e-200743f94568",
   "metadata": {},
   "outputs": [],
   "source": [
    "rf = RandomForestRegressor(n_jobs=-1)\n",
    "rf.fit(X_train, y_train)"
   ]
  },
  {
   "cell_type": "code",
   "execution_count": null,
   "id": "dfa85fd6-a758-44b3-a08c-76028ba772d6",
   "metadata": {},
   "outputs": [],
   "source": [
    "y_pred = rf.predict(X_test)"
   ]
  },
  {
   "cell_type": "code",
   "execution_count": null,
   "id": "b9c86126-f4e7-41f0-a747-1c0ca3edb35b",
   "metadata": {},
   "outputs": [],
   "source": [
    "mean_absolute_error(y_test, y_pred)"
   ]
  },
  {
   "cell_type": "code",
   "execution_count": null,
   "id": "982fb205-b344-4058-baa8-f5c8a9a7b242",
   "metadata": {},
   "outputs": [],
   "source": [
    "pred = rf.predict(test)"
   ]
  },
  {
   "cell_type": "code",
   "execution_count": null,
   "id": "f4285fc8-e2bb-404e-a5d7-98930f7996d5",
   "metadata": {},
   "outputs": [],
   "source": [
    "pred.shape, ss.shape"
   ]
  },
  {
   "cell_type": "code",
   "execution_count": null,
   "id": "15914095-a0d2-4ab3-ba6a-46f87d73ae63",
   "metadata": {},
   "outputs": [],
   "source": [
    "col_id = ss.ID"
   ]
  },
  {
   "cell_type": "code",
   "execution_count": null,
   "id": "c73e2556-26ed-4483-9524-c10ef43eb2ac",
   "metadata": {},
   "outputs": [],
   "source": [
    "sub = pd.DataFrame({\"ID\": col_id, \"target\": pred})\n",
    "sub.to_csv(\"rf.csv\", index=False)"
   ]
  },
  {
   "cell_type": "markdown",
   "id": "978fea9e-00c5-422c-8d77-552895a3dcd5",
   "metadata": {},
   "source": [
    "### Trying other models althrough Random Forest gives the best score so far"
   ]
  },
  {
   "cell_type": "markdown",
   "id": "618b5a98-d84f-4d5b-ad91-86993d6a4345",
   "metadata": {
    "tags": []
   },
   "source": [
    "## Lightgbm"
   ]
  },
  {
   "cell_type": "code",
   "execution_count": null,
   "id": "d03a66c9-b631-4f3e-b469-4becb4f150d1",
   "metadata": {},
   "outputs": [],
   "source": [
    "from lightgbm import LGBMRegressor"
   ]
  },
  {
   "cell_type": "code",
   "execution_count": null,
   "id": "6fe810c5-9a8b-4097-9d30-3e8b58a5bc58",
   "metadata": {},
   "outputs": [],
   "source": [
    "lgb = LGBMRegressor()\n",
    "lgb.fit(X_train, y_train)"
   ]
  },
  {
   "cell_type": "code",
   "execution_count": null,
   "id": "99d3a625-3551-426e-83ae-4c544dd5d1ae",
   "metadata": {},
   "outputs": [],
   "source": [
    "y_pred_lgb = lgb.predict(X_test)\n",
    "score = mean_absolute_error(y_test, y_pred_lgb)\n",
    "score"
   ]
  },
  {
   "cell_type": "code",
   "execution_count": null,
   "id": "237f5851-2362-4a77-8692-ce6e2fdd8be2",
   "metadata": {},
   "outputs": [],
   "source": [
    "y_pred_lgb = lgb.predict(test)\n",
    "sub = pd.DataFrame({\"ID\": ss.ID, \"target\": y_pred_lgb})\n",
    "sub.to_csv(\"lgb.csv\", index=False)"
   ]
  },
  {
   "cell_type": "code",
   "execution_count": null,
   "id": "ecc160bb-42a8-4724-be4a-382eb2b1160c",
   "metadata": {},
   "outputs": [],
   "source": [
    "selcted_col = [\n",
    "    \"percentage_tertiary_schooling_completed\",\n",
    "    \"percentage_tertiary_schooling\",\n",
    "    \"percentage_primary_schooling\",\n",
    "    \"percentage_primary_schooling_completed\",\n",
    "    \"percentage_secondary_schooling_completed\",\n",
    "    \"percentage_secondary_schooling\",\n",
    "    \"yr_sch\",\n",
    "]"
   ]
  },
  {
   "cell_type": "markdown",
   "id": "0218c4cc-1642-4119-a5fe-ee55f77202a5",
   "metadata": {},
   "source": [
    "##  Selecting features based on the correlation"
   ]
  },
  {
   "cell_type": "code",
   "execution_count": null,
   "id": "fda2ec64-5d1c-4602-8833-852a5a3d8b0c",
   "metadata": {},
   "outputs": [],
   "source": [
    "X_df = train[selcted_col]\n",
    "X_df.head()"
   ]
  },
  {
   "cell_type": "code",
   "execution_count": null,
   "id": "02ac8526-51d1-497e-bce0-73aa7d2119e4",
   "metadata": {},
   "outputs": [],
   "source": [
    "test = test[selcted_col]"
   ]
  },
  {
   "cell_type": "code",
   "execution_count": null,
   "id": "d0d32400-3492-4e05-b474-ca95850b3eb5",
   "metadata": {},
   "outputs": [],
   "source": [
    "plt.figure(figsize=(15, 8))\n",
    "sns.heatmap(X_df.corr(), annot=True)"
   ]
  },
  {
   "cell_type": "code",
   "execution_count": null,
   "id": "79c188eb-5fea-4515-9a00-842549a80a86",
   "metadata": {},
   "outputs": [],
   "source": [
    "# X_df.corr()[\"target\"].sort_values()"
   ]
  },
  {
   "cell_type": "code",
   "execution_count": null,
   "id": "a2deea2d-312b-4572-9819-5cf889c30c57",
   "metadata": {},
   "outputs": [],
   "source": [
    "X = X_df\n",
    "y = train.target"
   ]
  },
  {
   "cell_type": "code",
   "execution_count": null,
   "id": "5837f549-b9d3-4b1a-ba8c-4b5458e931b7",
   "metadata": {},
   "outputs": [],
   "source": [
    "from catboost import CatBoostRegressor\n",
    "from lightgbm import LGBMRegressor\n",
    "from sklearn.metrics import mean_squared_error\n",
    "from sklearn.model_selection import GridSearchCV, KFold"
   ]
  },
  {
   "cell_type": "code",
   "execution_count": null,
   "id": "f029a6ba-896c-4126-9f33-0ddae1305579",
   "metadata": {},
   "outputs": [],
   "source": [
    "X_train, X_test, y_train, y_test = train_test_split(\n",
    "    X.values, y.values, random_state=123, test_size=0.1\n",
    ")\n",
    "\n",
    "\n",
    "# kfold = KFold(n_splits=10)"
   ]
  },
  {
   "cell_type": "code",
   "execution_count": null,
   "id": "18ea7b8e-cc02-4376-9456-11ff0015294b",
   "metadata": {},
   "outputs": [],
   "source": [
    "cb = CatBoostRegressor(verbose=0)\n",
    "cb.fit(X_train, y_train)\n",
    "pred = cb.predict(X_test)\n",
    "pred[:10]"
   ]
  },
  {
   "cell_type": "code",
   "execution_count": null,
   "id": "94755c71-fc12-4266-8c2c-4ff2c0261f44",
   "metadata": {},
   "outputs": [],
   "source": [
    "feature_importance_df = pd.DataFrame(cb.feature_importances_, columns=[\"importance\"])\n",
    "feature_importance_df[\"feature\"] = X.columns\n",
    "\n",
    "plt.figure(figsize=(17, 12))\n",
    "sns.barplot(\n",
    "    x=\"importance\",\n",
    "    y=\"feature\",\n",
    "    data=feature_importance_df.sort_values(by=[\"importance\"], ascending=False).head(40),\n",
    ")\n",
    "plt.title(\"XGBoostRegressor features importance\");"
   ]
  },
  {
   "cell_type": "code",
   "execution_count": null,
   "id": "b5db1452-551e-425c-889e-6f2a3be030d9",
   "metadata": {},
   "outputs": [],
   "source": [
    "mean_absolute_error(y_test, pred)"
   ]
  },
  {
   "cell_type": "code",
   "execution_count": null,
   "id": "873cba28-73cd-4fd6-a341-8ca5e262d25f",
   "metadata": {},
   "outputs": [],
   "source": [
    "pred_cb = cb.predict(test)"
   ]
  },
  {
   "cell_type": "code",
   "execution_count": null,
   "id": "b4539aa1-c113-454b-b5f3-8f1a71b65cb7",
   "metadata": {},
   "outputs": [],
   "source": [
    "sub = pd.DataFrame({\"ID\": ss.ID, \"target\": pred_cb})\n",
    "sub.to_csv(\"cb.csv\", index=False)"
   ]
  },
  {
   "cell_type": "code",
   "execution_count": null,
   "id": "906815b8-2083-4905-b684-c646894045c9",
   "metadata": {},
   "outputs": [],
   "source": [
    "rfr = RandomForestRegressor()\n",
    "rfr.fit(X_train, y_train)\n",
    "pred_rf = rfr.predict(X_test)\n",
    "mean_absolute_error(y_test, pred_rf)"
   ]
  },
  {
   "cell_type": "code",
   "execution_count": null,
   "id": "8f1a2a9b-cd9a-4692-8022-1fe1086c6a00",
   "metadata": {},
   "outputs": [],
   "source": [
    "pred_rfr = rfr.predict(test)"
   ]
  },
  {
   "cell_type": "code",
   "execution_count": null,
   "id": "bf2090fc-3c09-4eff-8589-4af0c6805721",
   "metadata": {},
   "outputs": [],
   "source": [
    "sub = pd.DataFrame({\"ID\": col_id, \"target\": pred_rfr})\n",
    "sub.to_csv(\"rfr_added.csv\", index=False)"
   ]
  },
  {
   "cell_type": "code",
   "execution_count": null,
   "id": "cbb98eb5-e301-471d-af2e-28cfc879ba08",
   "metadata": {},
   "outputs": [],
   "source": [
    "feature_importance_df = pd.DataFrame(rfr.feature_importances_, columns=[\"importance\"])\n",
    "feature_importance_df[\"feature\"] = X.columns\n",
    "\n",
    "plt.figure(figsize=(17, 12))\n",
    "sns.barplot(\n",
    "    x=\"importance\",\n",
    "    y=\"feature\",\n",
    "    data=feature_importance_df.sort_values(by=[\"importance\"], ascending=False).head(40),\n",
    ")\n",
    "plt.title(\"XGBoostRegressor features importance\");"
   ]
  },
  {
   "cell_type": "code",
   "execution_count": null,
   "id": "a6664854-8338-42e1-93ca-1517eae1105f",
   "metadata": {},
   "outputs": [],
   "source": [
    "gb = GradientBoostingRegressor(\n",
    "    n_estimators=500,\n",
    "    max_depth=8,\n",
    ")\n",
    "gb.fit(X_train, y_train)\n",
    "\n",
    "pred_gb = gb.predict(X_test)"
   ]
  },
  {
   "cell_type": "code",
   "execution_count": null,
   "id": "808880cb-fd22-44f8-ad2e-570a637a8b5e",
   "metadata": {},
   "outputs": [],
   "source": [
    "mean_absolute_error(y_test, pred_gb)"
   ]
  },
  {
   "cell_type": "code",
   "execution_count": null,
   "id": "ece1779f-26bf-4325-aff0-875c31eefa71",
   "metadata": {},
   "outputs": [],
   "source": []
  }
 ],
 "metadata": {
  "kernelspec": {
   "display_name": "Python 3 (ipykernel)",
   "language": "python",
   "name": "python3"
  },
  "language_info": {
   "codemirror_mode": {
    "name": "ipython",
    "version": 3
   },
   "file_extension": ".py",
   "mimetype": "text/x-python",
   "name": "python",
   "nbconvert_exporter": "python",
   "pygments_lexer": "ipython3",
   "version": "3.9.5"
  }
 },
 "nbformat": 4,
 "nbformat_minor": 5
}
