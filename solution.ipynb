{
 "cells": [
  {
   "cell_type": "code",
   "execution_count": null,
   "id": "7db58199-359b-4766-a3e9-0f7c57b8c017",
   "metadata": {},
   "outputs": [],
   "source": [
    "import random\n",
    "import warnings\n",
    "from random import seed\n",
    "\n",
    "import matplotlib.pyplot as plt\n",
    "import missingno as ms\n",
    "import numpy as np\n",
    "import pandas as pd\n",
    "import seaborn as sns\n",
    "import statsmodels as sm\n",
    "\n",
    "seed_val = 42\n",
    "random.seed(seed_val)\n",
    "np.random.seed(seed_val)\n",
    "\n",
    "%matplotlib inline\n",
    "\n",
    "seed(42)\n",
    "\n",
    "pd.set_option(\"display.max_rows\", None)\n",
    "pd.set_option(\"display.max_columns\", None)\n",
    "pd.set_option(\"float_format\", \"{:f}\".format)\n",
    "warnings.filterwarnings(\"ignore\")"
   ]
  },
  {
   "cell_type": "code",
   "execution_count": null,
   "id": "bf49c4b9-4b9b-4def-8228-f1cd817ead2d",
   "metadata": {},
   "outputs": [],
   "source": [
    "train = pd.read_csv(\"Train (1).csv\").drop(\"ID\", axis=1)\n",
    "test = pd.read_csv(\"Test.csv\").drop(\"ID\", axis=1)\n",
    "ss = pd.read_csv(\"SampleSubmission.csv\")"
   ]
  },
  {
   "cell_type": "code",
   "execution_count": null,
   "id": "c96571c5-6d3b-4abf-878c-6d7c0c208d8b",
   "metadata": {},
   "outputs": [],
   "source": [
    "train.head()"
   ]
  },
  {
   "cell_type": "code",
   "execution_count": null,
   "id": "6f0abf26-c63e-4825-b9a0-33b7a54d9016",
   "metadata": {},
   "outputs": [],
   "source": [
    "test.head()"
   ]
  },
  {
   "cell_type": "code",
   "execution_count": null,
   "id": "ef8ca5fc-9322-4f03-bb57-a0b8033df564",
   "metadata": {},
   "outputs": [],
   "source": [
    "ss.head()"
   ]
  },
  {
   "cell_type": "code",
   "execution_count": null,
   "id": "5be0361f-33d0-499a-ab58-8156021577a8",
   "metadata": {},
   "outputs": [],
   "source": [
    "train.shape, test.shape"
   ]
  },
  {
   "cell_type": "code",
   "execution_count": null,
   "id": "702805ea-217c-44f7-aa6e-5cf679e23149",
   "metadata": {},
   "outputs": [],
   "source": [
    "ms.matrix(train)"
   ]
  },
  {
   "cell_type": "code",
   "execution_count": null,
   "id": "64b1b0b8-9ebc-4151-beb7-00cfa651c2fb",
   "metadata": {},
   "outputs": [],
   "source": [
    "train.info()"
   ]
  },
  {
   "cell_type": "code",
   "execution_count": null,
   "id": "f560fc12-036b-4bdc-8ebe-73e31273d5a3",
   "metadata": {},
   "outputs": [],
   "source": [
    "plt.figure(figsize=(19, 8))\n",
    "sns.heatmap(train.corr(), annot=True)"
   ]
  },
  {
   "cell_type": "markdown",
   "id": "6408d3f9-b368-471b-8791-9c5972e9cbe9",
   "metadata": {},
   "source": [
    "From the above graph we can see that some columns are not correlated at all for example **ageto** and **agefrom** but we are not going to drop them now because they can carry a signal. You can think of it as missing values **NaN** which can sometime be a signal and can be traited as a column for the model to learn from.\n",
    "Further I will drop them to see if it will change anything later on."
   ]
  },
  {
   "cell_type": "code",
   "execution_count": null,
   "id": "49e1e343-1d3a-4773-bdb2-899b7373d488",
   "metadata": {},
   "outputs": [],
   "source": [
    "sns.histplot(train.target)"
   ]
  },
  {
   "cell_type": "code",
   "execution_count": null,
   "id": "dc44b5bb-e480-4d56-b328-d1265bd76bad",
   "metadata": {},
   "outputs": [],
   "source": [
    "train.corr()[\"target\"]"
   ]
  },
  {
   "cell_type": "code",
   "execution_count": null,
   "id": "367c1ec8-1eb2-4be9-a63c-a42acfff2f16",
   "metadata": {},
   "outputs": [],
   "source": [
    "train.agefrom.value_counts().plot(kind=\"bar\")"
   ]
  },
  {
   "cell_type": "code",
   "execution_count": null,
   "id": "93d5f51f-c8f7-479e-a968-050674efa252",
   "metadata": {},
   "outputs": [],
   "source": [
    "train.ageto.value_counts().plot(kind=\"bar\")"
   ]
  },
  {
   "cell_type": "code",
   "execution_count": null,
   "id": "a17861a9-58ac-4a94-b732-165cc8f89d97",
   "metadata": {},
   "outputs": [],
   "source": [
    "train.sex.value_counts().plot(kind=\"bar\")"
   ]
  },
  {
   "cell_type": "code",
   "execution_count": null,
   "id": "f4594d49-589d-46ad-83d7-b9936dad9897",
   "metadata": {},
   "outputs": [],
   "source": [
    "train.loc[\n",
    "    :, \"percentage_primary_schooling\":\"percentage_secondary_schooling_completed\"\n",
    "].describe().T.style.bar(subset=[\"mean\"], color=\"#206ff2\").background_gradient(\n",
    "    subset=[\"std\"], cmap=\"Reds\"\n",
    ").background_gradient(\n",
    "    subset=[\"50%\"], cmap=\"coolwarm\"\n",
    ")"
   ]
  },
  {
   "cell_type": "code",
   "execution_count": null,
   "id": "5222c64c-d473-4b85-a6f3-f74fbbaf62b5",
   "metadata": {},
   "outputs": [],
   "source": [
    "features = train.columns.values[3:12]\n",
    "i = 0\n",
    "sns.set_style(\"whitegrid\")\n",
    "plt.figure()\n",
    "fig, ax = plt.subplots(10, 10, figsize=(18, 22))\n",
    "\n",
    "for feature in features:\n",
    "    i += 1\n",
    "    plt.subplot(5, 2, i)\n",
    "    sns.distplot(train[feature], hist=False, label=\"train\")\n",
    "    sns.distplot(test[feature], hist=False, label=\"test\")\n",
    "    plt.xlabel(feature, fontsize=9)\n",
    "    locs, labels = plt.xticks()\n",
    "    plt.tick_params(axis=\"x\", which=\"major\", labelsize=6, pad=-6)\n",
    "    plt.tick_params(axis=\"y\", which=\"major\", labelsize=6)\n",
    "plt.show();"
   ]
  },
  {
   "cell_type": "code",
   "execution_count": null,
   "id": "13e0b796-e521-4182-9cfa-6a697ce0e3d8",
   "metadata": {},
   "outputs": [],
   "source": [
    "# encoding features\n",
    "train = pd.get_dummies(train, drop_first=True)\n",
    "\n",
    "test = pd.get_dummies(test, drop_first=True)"
   ]
  },
  {
   "cell_type": "code",
   "execution_count": null,
   "id": "e90c52e4-a4e5-4c76-86a0-85e350feb18e",
   "metadata": {},
   "outputs": [],
   "source": [
    "train.shape, test.shape"
   ]
  },
  {
   "cell_type": "code",
   "execution_count": null,
   "id": "0a3ecc93-3d3f-417e-876c-097268833e22",
   "metadata": {},
   "outputs": [],
   "source": [
    "train.corr()[\"target\"].sort_values()"
   ]
  },
  {
   "cell_type": "markdown",
   "id": "4fe8dcdb-d36a-4d3b-87f8-3fe4dfddf726",
   "metadata": {},
   "source": [
    " From the above cell we can see that many features are not correlated or we having negative correlation.<br>\n",
    " I wanted to remove ageto because it doesn't carry any unformation but after droping int it reduce the score"
   ]
  },
  {
   "cell_type": "code",
   "execution_count": null,
   "id": "e4913c9f-d581-403d-b8bf-191c0bd1cf1e",
   "metadata": {},
   "outputs": [],
   "source": [
    "# taking both columns names for train and test for doing features importance later on\n",
    "train_col = train.columns.to_list()\n",
    "test_col = test.columns.to_list()"
   ]
  },
  {
   "cell_type": "code",
   "execution_count": null,
   "id": "dccb049f-8732-4606-9a4a-6363851a1af9",
   "metadata": {},
   "outputs": [],
   "source": [
    "X = train.drop([\"target\"], 1).values\n",
    "y = train.target.values"
   ]
  },
  {
   "cell_type": "code",
   "execution_count": null,
   "id": "eb612ec7-00dd-4eab-95f4-e1fead300bbb",
   "metadata": {},
   "outputs": [],
   "source": [
    "X.shape, test.shape"
   ]
  },
  {
   "cell_type": "code",
   "execution_count": null,
   "id": "f10f41f6-f470-4e5b-aa04-ac19e7c8d6e6",
   "metadata": {},
   "outputs": [],
   "source": [
    "import statsmodels.api as sm\n",
    "from sklearn.model_selection import train_test_split\n",
    "\n",
    "mod = sm.OLS(y, X)  # Describe model\n",
    "\n",
    "res = mod.fit()  # Fit model\n",
    "\n",
    "print(res.summary())  # Summarize model"
   ]
  },
  {
   "cell_type": "code",
   "execution_count": null,
   "id": "3db1e3ea-4f7a-4b0c-9b1f-3d51c6e1cae3",
   "metadata": {},
   "outputs": [],
   "source": [
    "X_train, X_test, y_train, y_test = train_test_split(\n",
    "    X, y, test_size=0.05, random_state=seed_val\n",
    ")"
   ]
  },
  {
   "cell_type": "code",
   "execution_count": null,
   "id": "ab7497ca-ae15-4c71-96e7-372ff4aacdfd",
   "metadata": {},
   "outputs": [],
   "source": [
    "# import regression algorithm\n",
    "from sklearn.ensemble import (\n",
    "    GradientBoostingRegressor,\n",
    "    HistGradientBoostingRegressor,\n",
    "    RandomForestRegressor,\n",
    ")\n",
    "from sklearn.linear_model import LinearRegression\n",
    "from sklearn.metrics import mean_absolute_error\n",
    "from sklearn.model_selection import cross_val_score, train_test_split\n",
    "from sklearn.neighbors import KNeighborsRegressor\n",
    "from sklearn.svm import SVR\n",
    "from sklearn.tree import DecisionTreeRegressor"
   ]
  },
  {
   "cell_type": "code",
   "execution_count": null,
   "id": "b291a6dc-e5b3-49b5-b732-91fdc0711f83",
   "metadata": {},
   "outputs": [],
   "source": [
    "%%time\n",
    "models = {\n",
    "    # \"SVM\": SVR(),\n",
    "    \"KNN\": KNeighborsRegressor(),\n",
    "    \"RF\": RandomForestRegressor(),\n",
    "    \"GB\": GradientBoostingRegressor(),\n",
    "    \"DTC\": DecisionTreeRegressor(),\n",
    "    \"HGB\": HistGradientBoostingRegressor(),\n",
    "    \"LR\": LinearRegression(),\n",
    "}\n",
    "\n",
    "\n",
    "for model_name, model in models.items():\n",
    "    print(\"Train {}\".format(model_name))\n",
    "    model.fit(X_train, y_train)\n",
    "    scores = cross_val_score(\n",
    "        model, X_train, y_train, cv=10, scoring=(\"neg_mean_absolute_error\")\n",
    "    )\n",
    "    print(scores)\n",
    "    scores_average = (sum(scores)) / (len(scores))\n",
    "    print(scores_average)\n",
    "\n",
    "    #     print(\"List of scores for {}: {}\".format(model_name, scores))\n",
    "    #     print(\"The mean score for {}: {}\".format(model_name, scores.mean()))\n",
    "    print(\"-------------The End------------------\")"
   ]
  },
  {
   "cell_type": "markdown",
   "id": "2040be74-a256-461e-a1c8-af70165e428d",
   "metadata": {},
   "source": [
    "### The cross valudation shows us that Random forst is the best among all here so we are going to use that one for now."
   ]
  },
  {
   "cell_type": "code",
   "execution_count": null,
   "id": "db0bc28a-a31d-444c-a15a-ffcab63c535f",
   "metadata": {},
   "outputs": [],
   "source": [
    "from sklearn.metrics import mean_absolute_error\n",
    "from sklearn.model_selection import train_test_split\n",
    "from sklearn.preprocessing import StandardScaler"
   ]
  },
  {
   "cell_type": "code",
   "execution_count": null,
   "id": "4956b010-6d96-4d6b-b61e-200743f94568",
   "metadata": {},
   "outputs": [],
   "source": [
    "rf = RandomForestRegressor(n_jobs=-1)\n",
    "rf.fit(X_train, y_train)"
   ]
  },
  {
   "cell_type": "code",
   "execution_count": null,
   "id": "dfa85fd6-a758-44b3-a08c-76028ba772d6",
   "metadata": {},
   "outputs": [],
   "source": [
    "y_pred = rf.predict(X_test)"
   ]
  },
  {
   "cell_type": "code",
   "execution_count": null,
   "id": "b9c86126-f4e7-41f0-a747-1c0ca3edb35b",
   "metadata": {},
   "outputs": [],
   "source": [
    "mean_absolute_error(y_test, y_pred)"
   ]
  },
  {
   "cell_type": "code",
   "execution_count": null,
   "id": "982fb205-b344-4058-baa8-f5c8a9a7b242",
   "metadata": {},
   "outputs": [],
   "source": [
    "pred = rf.predict(test)"
   ]
  },
  {
   "cell_type": "code",
   "execution_count": null,
   "id": "f4285fc8-e2bb-404e-a5d7-98930f7996d5",
   "metadata": {},
   "outputs": [],
   "source": [
    "pred.shape, ss.shape"
   ]
  },
  {
   "cell_type": "code",
   "execution_count": null,
   "id": "15914095-a0d2-4ab3-ba6a-46f87d73ae63",
   "metadata": {},
   "outputs": [],
   "source": [
    "col_id = ss.ID"
   ]
  },
  {
   "cell_type": "code",
   "execution_count": null,
   "id": "c73e2556-26ed-4483-9524-c10ef43eb2ac",
   "metadata": {},
   "outputs": [],
   "source": [
    "sub = pd.DataFrame({\"ID\": col_id, \"target\": pred})\n",
    "sub.to_csv(\"rf.csv\", index=False)"
   ]
  },
  {
   "cell_type": "markdown",
   "id": "6261fb22-7faf-4592-b251-e07bcdb4c9c1",
   "metadata": {},
   "source": [
    "# using kflod cross validation"
   ]
  },
  {
   "cell_type": "code",
   "execution_count": null,
   "id": "e9e28aab-6e7d-43f8-b2e0-bc71c5355184",
   "metadata": {},
   "outputs": [],
   "source": [
    "from sklearn.model_selection import KFold\n",
    "\n",
    "# X_train, X_test, y_train, y_test = train_test_split(\n",
    "#     X, y, random_state=123, test_size=0.1\n",
    "# )"
   ]
  },
  {
   "cell_type": "code",
   "execution_count": null,
   "id": "afd75418-258b-4f86-b6e6-4ea3f106b0ad",
   "metadata": {},
   "outputs": [],
   "source": [
    "%%time\n",
    "kf = KFold(5, shuffle=True, random_state=42)\n",
    "\n",
    "oos_y = []\n",
    "oos_pred = []\n",
    "fold = 0\n",
    "for train, val in kf.split(X, y):\n",
    "    fold += 1\n",
    "\n",
    "    X_train = X[train]\n",
    "    y_train = y[train]\n",
    "    X_val = X[val]\n",
    "    y_val = y[val]\n",
    "    model = RandomForestRegressor()\n",
    "    model.fit(X_train, y_train)\n",
    "\n",
    "    pred = model.predict(X_val)\n",
    "    oos_y.append(y_val)\n",
    "    oos_pred.append(pred)\n",
    "    score = mean_absolute_error(y_val, pred)\n",
    "    print(f\"Fold {fold} score(MAE): {score}\")"
   ]
  },
  {
   "cell_type": "markdown",
   "id": "f2e58da6-1195-4fcb-bb32-d51e9346c28b",
   "metadata": {},
   "source": [
    "I have tried different models with different preprocessing and feature engineering techniques but amongs all Random forest gives the best score"
   ]
  },
  {
   "cell_type": "code",
   "execution_count": null,
   "id": "7b27401a-44cc-4d6e-9ad1-b2be2107b5aa",
   "metadata": {},
   "outputs": [],
   "source": []
  }
 ],
 "metadata": {
  "kernelspec": {
   "display_name": "Python 3 (ipykernel)",
   "language": "python",
   "name": "python3"
  },
  "language_info": {
   "codemirror_mode": {
    "name": "ipython",
    "version": 3
   },
   "file_extension": ".py",
   "mimetype": "text/x-python",
   "name": "python",
   "nbconvert_exporter": "python",
   "pygments_lexer": "ipython3",
   "version": "3.9.5"
  }
 },
 "nbformat": 4,
 "nbformat_minor": 5
}
